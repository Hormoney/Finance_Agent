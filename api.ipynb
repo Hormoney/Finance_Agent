{
 "cells": [
  {
   "cell_type": "markdown",
   "metadata": {},
   "source": [
    "API调用"
   ]
  },
  {
   "cell_type": "code",
   "execution_count": 14,
   "metadata": {},
   "outputs": [],
   "source": [
    "import getpass\n",
    "import os\n",
    "\n",
    "os.environ[\"TOGETHER_API_KEY\"] = \"api_key\"\n",
    "\n",
    "from langchain_openai import ChatOpenAI\n",
    "\n",
    "model = ChatOpenAI(\n",
    "    base_url=\"url\",\n",
    "    api_key=os.environ[\"TOGETHER_API_KEY\"],\n",
    "    model=\"model_name\",\n",
    ")\n"
   ]
  },
  {
   "cell_type": "markdown",
   "metadata": {},
   "source": [
    "简单测试API调用是否成功"
   ]
  },
  {
   "cell_type": "code",
   "execution_count": 18,
   "metadata": {},
   "outputs": [
    {
     "name": "stdout",
     "output_type": "stream",
     "text": [
      "在数学中，$1+1 = 2$。\n",
      "\n",
      "但在一些特殊情境或特定的概念理解中，可能有其他特殊的含义或解释哦。你是想问关于这个的什么呢？可以进一步说明。\n"
     ]
    }
   ],
   "source": [
    "from langchain.schema import HumanMessage\n",
    "from langchain.prompts import PromptTemplate\n",
    "template = '''请回答：{input}'''\n",
    "template2 = PromptTemplate(template=template,input_variables=['input'])\n",
    "print(model([HumanMessage(content = template2.format(input='1+1'))]).content)"
   ]
  },
  {
   "cell_type": "markdown",
   "metadata": {},
   "source": [
    "Finance_Agent Demo（双模型串联）"
   ]
  },
  {
   "cell_type": "code",
   "execution_count": 19,
   "metadata": {},
   "outputs": [
    {
     "name": "stdout",
     "output_type": "stream",
     "text": [
      "企业偿债能力可能存在的风险点：\n",
      "- 资产负债率整体呈波动上升趋势，尤其是近两年上升较快，反映企业负债水平较高，长期偿债压力较大，可能面临较高的财务风险，如资金链紧张、偿债能力不足引发违约等风险。\n",
      "- 流动比率虽有一定波动，但多数年份低于正常水平，尤其是近两年明显偏低，表明企业流动资产对流动负债的覆盖能力较弱，短期偿债能力较弱，可能存在无法及时偿还短期债务的风险，易引发流动性危机。\n",
      "- 速动比率情况与流动比率类似，多数年份不理想，尤其近两年表现较差，企业的速动资产（扣除存货等较难快速变现资产）对流动负债的保障程度不足，短期偿债风险较高。\n",
      "- 从多年数据变化趋势看，企业偿债能力呈现逐步减弱的态势，需密切关注其经营状况和财务状况的变化，以防偿债能力持续恶化导致财务困境的出现。\n"
     ]
    }
   ],
   "source": [
    "from langchain.schema import HumanMessage\n",
    "from langchain.prompts import PromptTemplate\n",
    "\n",
    "# 定义三个模型的PromptTemplate\n",
    "template1 = PromptTemplate(\n",
    "    template='''\n",
    "    # 角色\n",
    "    你是一位资深的财务分析师，善于通过企业的主要财务指标表、资产负债表来分析企业的偿债能力。\n",
    "\n",
    "    # 目标\n",
    "    通过提供的主要财务指标表、资产负债表，结合你的金融领域知识，计算用于评估企业偿债能力的财务指标，并与前两年的数据进行对比，从而揭示出企业的风险点所在。\n",
    "\n",
    "    # 技能\n",
    "    - 丰富的股票市场知识\n",
    "    - 熟练的财务分析技能\n",
    "    - 对财表隐藏风险点的洞察能力\n",
    "    - 熟练的python数据分析能力\n",
    "    # 工作流程\n",
    "    1.接收财表数据和领域知识\n",
    "    2.根据实际情况，逐步规划你的财务分析步骤，每个步骤应该详尽、科学严谨、可操作性强\n",
    "    3.根据你规划出的财务分析步骤，使用python编程语言进行分析\n",
    "    4.整理数据分析结果，输出你的财务分析步骤和计算出的用于企业偿债能力分析的财务指标。\n",
    "\n",
    "    # 限制\n",
    "    仅输出你的财务分析步骤和计算出的用于企业偿债能力分析的财务指标。\n",
    "\n",
    "    # 输入参数\n",
    "    主要指标表：{input}\n",
    "    ''',\n",
    "    input_variables=['input']\n",
    ")\n",
    "\n",
    "template2 = PromptTemplate(\n",
    "    template='''\n",
    "    # 角色\n",
    "    你是一位资深的财务分析师，善于通过企业的主要财务指标表、资产负债表来分析企业的偿债能力。\n",
    "\n",
    "    # 目标\n",
    "    通过提供的主要财务指标表、资产负债表，结合你的金融领域知识，计算用于评估企业偿债能力的财务指标，并与前两年的数据进行对比，从而揭示出企业的风险点所在。\n",
    "\n",
    "    # 技能\n",
    "    - 丰富的股票市场知识\n",
    "    - 熟练的财务分析技能\n",
    "    - 对财表隐藏风险点的洞察能力\n",
    "    - 熟练的python数据分析能力\n",
    "\n",
    "    # 工作流程\n",
    "    1.接收财务指标计算结果和领域知识\n",
    "    2.结合计算出的指标和你的知识，揭露企业在偿债能力上可能出现的风险点。\n",
    "\n",
    "    # 限制\n",
    "    仅输出该企业在偿债能力上可能出现的风险点\n",
    "\n",
    "    请解释：{input}\n",
    "    ''',\n",
    "    input_variables=['input']\n",
    ")\n",
    "\n",
    "# template3 = PromptTemplate(\n",
    "#     template='''\n",
    "#     # 技能\n",
    "#     1. 接收财务指标计算结果和领域知识\n",
    "#     2. 结合计算出的指标和你的知识，揭露企业在偿债能力上可能出现的风险点。\n",
    "\n",
    "#     # 限制\n",
    "#     仅输出该企业在偿债能力上可能出现的风险点。\n",
    "\n",
    "#     请总结：{input}\n",
    "#     ''',\n",
    "#     input_variables=['input']\n",
    "# )\n",
    "\n",
    "def model1(input):\n",
    "    return model([HumanMessage(content=template1.format(input=input))]).content\n",
    "\n",
    "def model2(input):\n",
    "    return model([HumanMessage(content=template2.format(input=input))]).content\n",
    "\n",
    "# def model3(input):\n",
    "#     return model([HumanMessage(content=template3.format(input=input))]).content\n",
    "\n",
    "def workflow(input):\n",
    "    result1 = model1(input)\n",
    "    final_result = model2(result1)\n",
    "    # final_result = model3(result2)\n",
    "    return final_result\n",
    "\n",
    "# 使用工作流\n",
    "input_data = '科目\\时间\t2023\t2022\t2021\t2020\t2019\t2018\t2017\t2016\t2015\t2014\t2013\t2012\t2011\t2010\t2009\t2008\t2007\t2006\t2005\t2004\t2003\t2002\t2001\t2000\t1999\t1998\t1997\t1996\t1995\t1994\t1993\t1992报表核心指标(元)\t*所有者权益（或股东权益）合计(元)\t145154393200\t164262516700\t163882892400\t155273877400\t131392301000\t108925851800\t93451834400\t77476124600\t71832939000\t61231160400\t2201461400\t2200675300\t2112188900\t1978299100\t1858386400\t1581294100\t1758320500\t1283924600\t1234424700\t1191326400\t1114315300\t1049073100\t343312000\t269312000\t252884000\t175398900\t140958500\t150744500\t164436400\t158704800\t156277200\t115307200*资产合计(元)\t1193922084900\t1365382105100\t1469097908700\t1397336286400\t1145706529900\t1036545456300\t848532814700\t733137955500\t600436070400\t508958661500\t6158879500\t5966315500\t5623835500\t4465521300\t3857513800\t2932135600\t2906985800\t2614355600\t2738544900\t2811925600\t2338788200\t2219474300\t1450903000\t1074244500\t785563600\t552345700\t435481400\t439032600\t502545400\t484953100\t436279600\t363045700*负债合计(元)\t1048767691700\t1201119588300\t1305215016400\t1242062409000\t1014314228900\t927619604500\t755080980300\t655661830900\t528603131500\t447727501100\t3957418100\t3765640100\t3511646700\t2487222200\t1999127400\t1350841400\t1148665400\t1330431000\t1504120200\t1620599200\t1224472900\t1170401100\t1107590900\t804932600\t532679600\t376946800\t294523000\t288288100\t338109000\t326248400\t280002300\t63863500*归属于母公司所有者权益合计(元)\t80339661500\t90648914800\t89972496100\t84776400800\t78901190500\t70104306300\t62529251600'\n",
    "output = workflow(input_data)\n",
    "print(output)\n"
   ]
  },
  {
   "cell_type": "markdown",
   "metadata": {},
   "source": [
    "RAG部分"
   ]
  },
  {
   "cell_type": "markdown",
   "metadata": {},
   "source": [
    "Embedding（嵌入生成）：\n",
    "嵌入生成是将文本数据转换为高维向量表示的过程。这个过程通常通过预训练的语言模型（如 BERT, RoBERTa, 或 Sentence-BERT）来完成。\n",
    "每个文本输入（如句子、段落或文档）都会被编码成一个固定大小的向量，这些向量捕捉了文本的语义信息。"
   ]
  },
  {
   "cell_type": "code",
   "execution_count": null,
   "metadata": {},
   "outputs": [],
   "source": [
    "from sentence_transformers import SentenceTransformer\n",
    "\n",
    "model = SentenceTransformer('all-MiniLM-L6-v2')\n",
    "sentences = [\"This is an example sentence\", \"Each sentence is converted\"]\n",
    "embeddings = model.encode(sentences)"
   ]
  },
  {
   "cell_type": "markdown",
   "metadata": {},
   "source": [
    "向量匹配（Vector Matching）：\n",
    "向量匹配是通过计算向量之间的相似度来检索相关信息的过程。通常使用的相似度度量是余弦相似度或欧氏距离。\n",
    "Faiss 是一个高效的相似度搜索库，用于处理大规模向量搜索。"
   ]
  },
  {
   "cell_type": "code",
   "execution_count": null,
   "metadata": {},
   "outputs": [],
   "source": [
    "import faiss\n",
    "import numpy as np\n",
    "\n",
    "# 假设 embeddings 是一个包含文本向量的 numpy 数组\n",
    "d = embeddings.shape[1]\n",
    "index = faiss.IndexFlatL2(d)  # 使用欧氏距离\n",
    "index.add(embeddings)\n",
    "D, I = index.search(embeddings, k=5)  # 检索前 5 个相似向量\n"
   ]
  },
  {
   "cell_type": "markdown",
   "metadata": {},
   "source": [
    "检索增强生成（RAG）：\n",
    "RAG 系统通过检索相关信息来增强生成模型的输出。这个过程包括使用嵌入模型生成查询的向量，然后在向量数据库中搜索最相似的向量，最后将检索到的信息传递给生成模型以生成上下文相关的响应。"
   ]
  },
  {
   "cell_type": "code",
   "execution_count": null,
   "metadata": {},
   "outputs": [],
   "source": [
    "def retrieve_documents(query, model, index):\n",
    "    query_embedding = model.encode([query])\n",
    "    D, I = index.search(query_embedding, k=5)\n",
    "    return [documents[i] for i in I[0]]\n",
    "\n",
    "def generate_response(query, model, index, generation_model):\n",
    "    relevant_docs = retrieve_documents(query, model, index)\n",
    "    context = \" \".join(relevant_docs)\n",
    "    prompt = f\"Context: {context}\\n\\nQuery: {query}\\nResponse:\"\n",
    "    response = generation_model.generate(prompt)\n",
    "    return response\n"
   ]
  },
  {
   "cell_type": "markdown",
   "metadata": {},
   "source": [
    "简单测试代码"
   ]
  },
  {
   "cell_type": "code",
   "execution_count": null,
   "metadata": {},
   "outputs": [],
   "source": [
    "# 导入所需的库\n",
    "from sentence_transformers import SentenceTransformer\n",
    "import faiss\n",
    "import numpy as np\n",
    "\n",
    "# 步骤 1：嵌入生成\n",
    "# 加载 SentenceTransformer 模型\n",
    "model = SentenceTransformer('all-MiniLM-L6-v2')\n",
    "\n",
    "# 定义文档列表，这些是需要嵌入和检索的文档\n",
    "documents = [\"Document 1 text\", \"Document 2 text\", \"Document 3 text\"]\n",
    "\n",
    "# 使用模型对文档进行编码，生成文档的嵌入向量\n",
    "embeddings = model.encode(documents)\n",
    "\n",
    "# 步骤 2：构建向量索引\n",
    "# 获取嵌入向量的维度\n",
    "d = embeddings.shape[1]\n",
    "\n",
    "# 创建一个 L2 距离的 FAISS 索引\n",
    "index = faiss.IndexFlatL2(d)\n",
    "\n",
    "# 将嵌入向量添加到索引中\n",
    "index.add(np.array(embeddings, dtype=np.float32))\n",
    "\n",
    "# 步骤 3：检索和生成\n",
    "# 定义一个函数，用于根据查询从索引中检索相关文档\n",
    "def retrieve_documents(query, model, index, documents):\n",
    "    # 对查询进行编码，生成查询的嵌入向量\n",
    "    query_embedding = model.encode([query])\n",
    "    \n",
    "    # 在索引中搜索与查询最相似的文档，k=3 表示返回 3 个最相似的文档\n",
    "    D, I = index.search(np.array(query_embedding, dtype=np.float32), k=3)\n",
    "    \n",
    "    # 根据索引结果返回相关文档\n",
    "    return [documents[i] for i in I[0]]\n",
    "\n",
    "# 定义一个函数，用于生成响应\n",
    "def generate_response(query, model, index, documents):\n",
    "    # 使用检索函数获取与查询相关的文档\n",
    "    relevant_docs = retrieve_documents(query, model, index, documents)\n",
    "    \n",
    "    # 将相关文档连接成一个上下文字符串\n",
    "    context = \" \".join(relevant_docs)\n",
    "    \n",
    "    # 构建提示信息，包括上下文和查询\n",
    "    prompt = f\"Context: {context}\\n\\nQuery: {query}\\nResponse:\"\n",
    "    \n",
    "    # 生成响应，简单地将上下文和查询信息包含在内\n",
    "    response = f\"Based on the context: {context}, the answer to '{query}' is ...\"\n",
    "    \n",
    "    # 返回生成的响应\n",
    "    return response\n",
    "\n",
    "# 使用示例\n",
    "# 定义一个查询\n",
    "query = \"What is the main point of Document 1?\"\n",
    "\n",
    "# 使用生成响应函数根据查询生成响应\n",
    "response = generate_response(query, model, index, documents)\n",
    "\n",
    "# 输出响应\n",
    "print(response)\n"
   ]
  }
 ],
 "metadata": {
  "kernelspec": {
   "display_name": ".venv",
   "language": "python",
   "name": "python3"
  },
  "language_info": {
   "codemirror_mode": {
    "name": "ipython",
    "version": 3
   },
   "file_extension": ".py",
   "mimetype": "text/x-python",
   "name": "python",
   "nbconvert_exporter": "python",
   "pygments_lexer": "ipython3",
   "version": "3.11.1"
  }
 },
 "nbformat": 4,
 "nbformat_minor": 2
}
